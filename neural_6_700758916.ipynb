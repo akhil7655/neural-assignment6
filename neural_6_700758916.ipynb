{
  "nbformat": 4,
  "nbformat_minor": 0,
  "metadata": {
    "colab": {
      "provenance": []
    },
    "kernelspec": {
      "name": "python3",
      "display_name": "Python 3"
    },
    "language_info": {
      "name": "python"
    }
  },
  "cells": [
    {
      "cell_type": "code",
      "execution_count": 1,
      "metadata": {
        "colab": {
          "base_uri": "https://localhost:8080/"
        },
        "id": "BRVOoqfM1Sxb",
        "outputId": "e25f8355-d6a5-4b03-cf26-346ce95c6ddb"
      },
      "outputs": [
        {
          "output_type": "stream",
          "name": "stdout",
          "text": [
            "First_name = vijay\n",
            "Last_name = nalabolu\n",
            "Full_name = vijay nalabolu\n"
          ]
        }
      ],
      "source": [
        "def fullname(firstname, lastname):\n",
        "  return firstname+\" \"+ lastname\n",
        "\n",
        "firstname = input(\"First_name = \")\n",
        "lastname = input(\"Last_name = \")\n",
        "print(\"Full_name =\",fullname(firstname, lastname))\n"
      ]
    },
    {
      "cell_type": "code",
      "source": [
        "def string_alternative(full_name):\n",
        "    return full_name[::2]\n",
        "\n",
        "def main():\n",
        "    Str = \"Good evening\"\n",
        "    output = string_alternative(Str)\n",
        "    print(output)\n",
        "\n",
        "if __name__ == \"__main__\":\n",
        "    main()"
      ],
      "metadata": {
        "colab": {
          "base_uri": "https://localhost:8080/"
        },
        "id": "jC7wrVvt2Iqt",
        "outputId": "8af653ba-bcfd-4a46-a410-c6bac280cb75"
      },
      "execution_count": 2,
      "outputs": [
        {
          "output_type": "stream",
          "name": "stdout",
          "text": [
            "Go vnn\n"
          ]
        }
      ]
    },
    {
      "cell_type": "code",
      "source": [
        "def frequencyOfWords(sentence):\n",
        "    wordStore = {}\n",
        "    words = sentence.split()\n",
        "\n",
        "    for i in words:\n",
        "        wordStore[i] = wordStore.get(i, 0) + 1\n",
        "\n",
        "    return wordStore\n",
        "\n",
        "def file_processing(input_file_path, output_file_path):\n",
        "    with open(input_file_path, 'r') as infile, open(output_file_path, 'w') as outfile:\n",
        "\n",
        "        sentences = ' '.join(line.strip() for line in infile)\n",
        "\n",
        "        wordStore = frequencyOfWords(sentences)\n",
        "\n",
        "        outfile.write( sentences + \"\\n\" + \"\\n\")\n",
        "        outfile.write(\"Word_count:\" + \"\\n\" + \"\\n\")\n",
        "\n",
        "        for word, count in wordStore.items():\n",
        "            outfile.write(f\"{word}: {count}\" + \"\\n\")\n",
        "\n",
        "        outfile.write(\"\\n\")\n",
        "\n",
        "with open('input.txt', 'w') as f:\n",
        "    f.write('Python Course' + \"\\n\" + \"Deep Learning Course\")\n",
        "\n",
        "file_processing('input.txt', 'output.txt')\n",
        "\n",
        "import os\n",
        "\n",
        "with open('output.txt', 'r') as f:\n",
        "    print(f.read())\n",
        "\n",
        "from google.colab import files\n",
        "files.download('input.txt')\n",
        "\n",
        "files.download('output.txt')\n"
      ],
      "metadata": {
        "colab": {
          "base_uri": "https://localhost:8080/",
          "height": 191
        },
        "id": "xnSM-y4r2Jje",
        "outputId": "187b1d85-db5b-43ff-fa88-644e402ed57a"
      },
      "execution_count": 3,
      "outputs": [
        {
          "output_type": "stream",
          "name": "stdout",
          "text": [
            "Python Course Deep Learning Course\n",
            "\n",
            "Word_count:\n",
            "\n",
            "Python: 1\n",
            "Course: 2\n",
            "Deep: 1\n",
            "Learning: 1\n",
            "\n",
            "\n"
          ]
        },
        {
          "output_type": "display_data",
          "data": {
            "text/plain": [
              "<IPython.core.display.Javascript object>"
            ],
            "application/javascript": [
              "\n",
              "    async function download(id, filename, size) {\n",
              "      if (!google.colab.kernel.accessAllowed) {\n",
              "        return;\n",
              "      }\n",
              "      const div = document.createElement('div');\n",
              "      const label = document.createElement('label');\n",
              "      label.textContent = `Downloading \"${filename}\": `;\n",
              "      div.appendChild(label);\n",
              "      const progress = document.createElement('progress');\n",
              "      progress.max = size;\n",
              "      div.appendChild(progress);\n",
              "      document.body.appendChild(div);\n",
              "\n",
              "      const buffers = [];\n",
              "      let downloaded = 0;\n",
              "\n",
              "      const channel = await google.colab.kernel.comms.open(id);\n",
              "      // Send a message to notify the kernel that we're ready.\n",
              "      channel.send({})\n",
              "\n",
              "      for await (const message of channel.messages) {\n",
              "        // Send a message to notify the kernel that we're ready.\n",
              "        channel.send({})\n",
              "        if (message.buffers) {\n",
              "          for (const buffer of message.buffers) {\n",
              "            buffers.push(buffer);\n",
              "            downloaded += buffer.byteLength;\n",
              "            progress.value = downloaded;\n",
              "          }\n",
              "        }\n",
              "      }\n",
              "      const blob = new Blob(buffers, {type: 'application/binary'});\n",
              "      const a = document.createElement('a');\n",
              "      a.href = window.URL.createObjectURL(blob);\n",
              "      a.download = filename;\n",
              "      div.appendChild(a);\n",
              "      a.click();\n",
              "      div.remove();\n",
              "    }\n",
              "  "
            ]
          },
          "metadata": {}
        },
        {
          "output_type": "display_data",
          "data": {
            "text/plain": [
              "<IPython.core.display.Javascript object>"
            ],
            "application/javascript": [
              "download(\"download_1b719e6a-ec3d-48f8-84b8-a38244bc358b\", \"input.txt\", 34)"
            ]
          },
          "metadata": {}
        },
        {
          "output_type": "display_data",
          "data": {
            "text/plain": [
              "<IPython.core.display.Javascript object>"
            ],
            "application/javascript": [
              "\n",
              "    async function download(id, filename, size) {\n",
              "      if (!google.colab.kernel.accessAllowed) {\n",
              "        return;\n",
              "      }\n",
              "      const div = document.createElement('div');\n",
              "      const label = document.createElement('label');\n",
              "      label.textContent = `Downloading \"${filename}\": `;\n",
              "      div.appendChild(label);\n",
              "      const progress = document.createElement('progress');\n",
              "      progress.max = size;\n",
              "      div.appendChild(progress);\n",
              "      document.body.appendChild(div);\n",
              "\n",
              "      const buffers = [];\n",
              "      let downloaded = 0;\n",
              "\n",
              "      const channel = await google.colab.kernel.comms.open(id);\n",
              "      // Send a message to notify the kernel that we're ready.\n",
              "      channel.send({})\n",
              "\n",
              "      for await (const message of channel.messages) {\n",
              "        // Send a message to notify the kernel that we're ready.\n",
              "        channel.send({})\n",
              "        if (message.buffers) {\n",
              "          for (const buffer of message.buffers) {\n",
              "            buffers.push(buffer);\n",
              "            downloaded += buffer.byteLength;\n",
              "            progress.value = downloaded;\n",
              "          }\n",
              "        }\n",
              "      }\n",
              "      const blob = new Blob(buffers, {type: 'application/binary'});\n",
              "      const a = document.createElement('a');\n",
              "      a.href = window.URL.createObjectURL(blob);\n",
              "      a.download = filename;\n",
              "      div.appendChild(a);\n",
              "      a.click();\n",
              "      div.remove();\n",
              "    }\n",
              "  "
            ]
          },
          "metadata": {}
        },
        {
          "output_type": "display_data",
          "data": {
            "text/plain": [
              "<IPython.core.display.Javascript object>"
            ],
            "application/javascript": [
              "download(\"download_413fb7ff-1ab1-4680-92c2-8648ffc15e30\", \"output.txt\", 90)"
            ]
          },
          "metadata": {}
        }
      ]
    },
    {
      "cell_type": "code",
      "source": [
        "def convert_heights_nested(heights_inches):\n",
        "    heights_cm = []\n",
        "    for height in heights_inches:\n",
        "        height_cm = height * 2.54\n",
        "        heights_cm.append(round(height_cm, 2))\n",
        "    return heights_cm\n",
        "\n",
        "heights_inches = [150, 155, 145, 148]\n",
        "heights_cm = convert_heights_nested(heights_inches)\n",
        "print(heights_cm)"
      ],
      "metadata": {
        "colab": {
          "base_uri": "https://localhost:8080/"
        },
        "id": "c8QoZcWZ2P5X",
        "outputId": "1a4e64cf-d451-4566-9c95-682615a01fcd"
      },
      "execution_count": 4,
      "outputs": [
        {
          "output_type": "stream",
          "name": "stdout",
          "text": [
            "[381.0, 393.7, 368.3, 375.92]\n"
          ]
        }
      ]
    },
    {
      "cell_type": "code",
      "source": [
        "def convert_heights_to_cm_list_comp(heights_inches):\n",
        "    return [height * 2.54 for height in heights_inches]\n",
        "\n",
        "L1 = [150, 155, 145, 148]\n",
        "heights_cm_list_comp = convert_heights_to_cm_list_comp(L1)\n",
        "print(heights_cm_list_comp)"
      ],
      "metadata": {
        "colab": {
          "base_uri": "https://localhost:8080/"
        },
        "id": "CekcsOUg2UAs",
        "outputId": "334291dc-dfca-4af9-e0f6-55be333e4ee5"
      },
      "execution_count": 5,
      "outputs": [
        {
          "output_type": "stream",
          "name": "stdout",
          "text": [
            "[381.0, 393.7, 368.3, 375.92]\n"
          ]
        }
      ]
    },
    {
      "cell_type": "code",
      "source": [],
      "metadata": {
        "id": "v4lGju4R2W-p"
      },
      "execution_count": null,
      "outputs": []
    }
  ]
}